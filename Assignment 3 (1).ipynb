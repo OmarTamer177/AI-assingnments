{
 "cells": [
  {
   "cell_type": "markdown",
   "metadata": {},
   "source": [
    "# Assignment 3"
   ]
  },
  {
   "cell_type": "markdown",
   "metadata": {},
   "source": [
    "### Write a function to count the number 4 in a given list."
   ]
  },
  {
   "cell_type": "code",
   "execution_count": 57,
   "metadata": {},
   "outputs": [
    {
     "name": "stdout",
     "output_type": "stream",
     "text": [
      "Enter a list: Finn, Jake, Ice king, Marceline, BMO, Lich\n",
      "Marceline\n"
     ]
    }
   ],
   "source": [
    "st = input('Enter a list: ')\n",
    "l1 = st.split(', ')\n",
    "\n",
    "def count_to_4():\n",
    "    if len(l1) >= 4:\n",
    "        print(l1[3])\n",
    "    else:\n",
    "        print(\"Enter a 4 item list\")\n",
    "        \n",
    "count_to_4()"
   ]
  },
  {
   "cell_type": "markdown",
   "metadata": {},
   "source": [
    "### write a  function to check whether a number is divisible by another number."
   ]
  },
  {
   "cell_type": "code",
   "execution_count": 10,
   "metadata": {},
   "outputs": [
    {
     "name": "stdout",
     "output_type": "stream",
     "text": [
      "Is x divisible by y?\n",
      "Enter x: 125\n",
      "Enter y: 25\n",
      "125 is divisible by 25\n"
     ]
    }
   ],
   "source": [
    "def check():\n",
    "    if x%y == 0:\n",
    "        print(x,'is divisible by',y)\n",
    "    else:\n",
    "        print(x,'is not divisible by',y)\n",
    "\n",
    "print(\"Is x divisible by y?\")\n",
    "x = int(input(\"Enter x: \"))\n",
    "y = int(input(\"Enter y: \"))\n",
    "check()"
   ]
  },
  {
   "cell_type": "markdown",
   "metadata": {},
   "source": [
    "### write a function to find the maximum and minimum numbers from a sequence of numbers."
   ]
  },
  {
   "cell_type": "code",
   "execution_count": 23,
   "metadata": {},
   "outputs": [
    {
     "name": "stdout",
     "output_type": "stream",
     "text": [
      "Enter a list of numbers: 8 90 100 78 56 28 42 7 90 65\n",
      "maximum number is: 100\n",
      "minimum number is: 7\n"
     ]
    }
   ],
   "source": [
    "def nums_info():\n",
    "    nums_list = nums.split()\n",
    "    ints_list = []\n",
    "    for i in range(0, len(nums_list)):\n",
    "        ints_list.append(int(nums_list[i]))\n",
    "    \n",
    "    print('maximum number is:', max(ints_list))\n",
    "    print('minimum number is:', min(ints_list))\n",
    "\n",
    "nums = input(\"Enter a list of numbers: \")\n",
    "nums_info()"
   ]
  },
  {
   "cell_type": "markdown",
   "metadata": {},
   "source": [
    "### Write a Python function that takes two lists and returns True if they have at least one common member."
   ]
  },
  {
   "cell_type": "code",
   "execution_count": 8,
   "metadata": {},
   "outputs": [
    {
     "data": {
      "text/plain": [
       "True"
      ]
     },
     "execution_count": 8,
     "metadata": {},
     "output_type": "execute_result"
    }
   ],
   "source": [
    "l1 = ['Marcy', 'Bubblegum', 'Jake']\n",
    "l2 = ['Jhonny', 'Marcy', 'Conor']\n",
    "\n",
    "def check(x):\n",
    "    x = False\n",
    "    for i in range(0,len(l1)):\n",
    "        for m in range(0,len(l2)):\n",
    "            if l1[i] == l2[m]:\n",
    "                x = True\n",
    "            else: \n",
    "                pass\n",
    "    return x\n",
    "\n",
    "check(x)"
   ]
  },
  {
   "cell_type": "markdown",
   "metadata": {},
   "source": [
    "### Write a Python function to calculate the factorial of a number (a non-negative integer). The function accepts the number from the user"
   ]
  },
  {
   "cell_type": "code",
   "execution_count": 2,
   "metadata": {},
   "outputs": [
    {
     "name": "stdout",
     "output_type": "stream",
     "text": [
      "Enter a number: 6\n",
      "720\n"
     ]
    }
   ],
   "source": [
    "def factorial():\n",
    "    x=1\n",
    "    for i in range(1,num+1):\n",
    "        x = x * i\n",
    "    print(x)\n",
    "        \n",
    "num = int(input('Enter a number: ')) \n",
    "factorial()"
   ]
  },
  {
   "cell_type": "markdown",
   "metadata": {},
   "source": [
    "#### Write a Python function to check whether a number is in a given range.\n",
    "\n",
    "### The range is from 3 to 11\n"
   ]
  },
  {
   "cell_type": "code",
   "execution_count": 3,
   "metadata": {},
   "outputs": [
    {
     "name": "stdout",
     "output_type": "stream",
     "text": [
      "Enter a number: 5\n",
      "Number is in range\n"
     ]
    }
   ],
   "source": [
    "def check_range():\n",
    "    if num>3 and num<11:\n",
    "        print('Number is in range')\n",
    "    else:\n",
    "         print('Number is not in range')\n",
    "\n",
    "num = int(input('Enter a number: '))\n",
    "check_range()"
   ]
  },
  {
   "cell_type": "markdown",
   "metadata": {},
   "source": [
    "### Write a  program to create the multiplication table (from 1 to 10) of a number."
   ]
  },
  {
   "cell_type": "code",
   "execution_count": 10,
   "metadata": {},
   "outputs": [
    {
     "name": "stdout",
     "output_type": "stream",
     "text": [
      "Enter a number to create the multiplication table: 5\n",
      "1 * 5 = 5\n",
      "2 * 5 = 10\n",
      "3 * 5 = 15\n",
      "4 * 5 = 20\n",
      "5 * 5 = 25\n",
      "6 * 5 = 30\n",
      "7 * 5 = 35\n",
      "8 * 5 = 40\n",
      "9 * 5 = 45\n",
      "10 * 5 = 50\n"
     ]
    }
   ],
   "source": [
    "def mult_table():\n",
    "    for i in range(1,11):\n",
    "        print(i, '*', num, '=', i*num)\n",
    "\n",
    "num = int(input('Enter a number to create the multiplication table: '))\n",
    "mult_table()"
   ]
  },
  {
   "cell_type": "markdown",
   "metadata": {},
   "source": [
    "#### LESSER OF TWO EVENS: Write a function that returns the lesser of two given numbers *if* both numbers are even, but returns the greater if one or both numbers are odd\n",
    "    lesser_of_two_evens(2,4) --> 2\n",
    "    lesser_of_two_evens(2,5) --> 5"
   ]
  },
  {
   "cell_type": "code",
   "execution_count": 27,
   "metadata": {},
   "outputs": [
    {
     "name": "stdout",
     "output_type": "stream",
     "text": [
      "2\n",
      "5\n"
     ]
    },
    {
     "data": {
      "text/plain": [
       "(2, 5)"
      ]
     },
     "execution_count": 27,
     "metadata": {},
     "output_type": "execute_result"
    }
   ],
   "source": [
    "def less_and_more(x,y):\n",
    "    if x%2 == 0 and y%2 == 0:\n",
    "        if x > y:\n",
    "            print(y)\n",
    "        else: \n",
    "            print(x)\n",
    "    \n",
    "    if x%2 != 0 or y%2 != 0:\n",
    "        if x > y:\n",
    "            print(x)\n",
    "        else: \n",
    "            print(y)\n",
    "    return x, y\n",
    "\n",
    "less_and_more(2,4)\n",
    "less_and_more(2,5)"
   ]
  },
  {
   "cell_type": "markdown",
   "metadata": {},
   "source": [
    "#### ANIMAL CRACKERS: Write a function takes a two-word string and returns True if both words begin with same letter\n",
    "    animal_crackers('Levelheaded Llama') --> True\n",
    "    animal_crackers('Crazy Kangaroo') --> False"
   ]
  },
  {
   "cell_type": "code",
   "execution_count": 36,
   "metadata": {},
   "outputs": [
    {
     "name": "stdout",
     "output_type": "stream",
     "text": [
      "Enter a 2-word string: mad man\n"
     ]
    },
    {
     "data": {
      "text/plain": [
       "True"
      ]
     },
     "execution_count": 36,
     "metadata": {},
     "output_type": "execute_result"
    }
   ],
   "source": [
    "def Same_letter():\n",
    "    l = st.split()\n",
    "    if l[0][0] == l[1][0]:\n",
    "        x = True\n",
    "    else:\n",
    "        x = False\n",
    "    return x\n",
    "\n",
    "st = input(\"Enter a 2-word string: \")\n",
    "Same_letter()"
   ]
  },
  {
   "cell_type": "markdown",
   "metadata": {},
   "source": [
    "#### MAKES TWENTY: Given two integers, return True if the sum of the integers is 20 *or* if one of the integers is 20. If not, return False\n",
    "\n",
    "    makes_twenty(20,10) --> True\n",
    "    makes_twenty(12,8) --> True\n",
    "    makes_twenty(2,3) --> False"
   ]
  },
  {
   "cell_type": "code",
   "execution_count": 40,
   "metadata": {},
   "outputs": [
    {
     "name": "stdout",
     "output_type": "stream",
     "text": [
      "Enter a number: 20\n",
      "Enter a number: 6\n"
     ]
    },
    {
     "data": {
      "text/plain": [
       "True"
      ]
     },
     "execution_count": 40,
     "metadata": {},
     "output_type": "execute_result"
    }
   ],
   "source": [
    "def makes_twenty(x,y):\n",
    "    sum = x + y\n",
    "    if sum>=20:\n",
    "        z = True\n",
    "    else:\n",
    "        z = False\n",
    "    return z\n",
    "\n",
    "x = int(input('Enter a number: '))\n",
    "y = int(input('Enter a number: '))\n",
    "makes_twenty(x,y)"
   ]
  },
  {
   "cell_type": "markdown",
   "metadata": {},
   "source": [
    "#### ALMOST THERE: Given an integer n, return True if n is within 10 of either 100 or 200\n",
    "\n",
    "    almost_there(90) --> True\n",
    "    almost_there(104) --> True\n",
    "    almost_there(150) --> False\n",
    "    almost_there(209) --> True\n",
    "    \n",
    "NOTE: `abs(num)` returns the absolute value of a number"
   ]
  },
  {
   "cell_type": "code",
   "execution_count": 53,
   "metadata": {},
   "outputs": [
    {
     "name": "stdout",
     "output_type": "stream",
     "text": [
      "True\n",
      "True\n",
      "False\n",
      "True\n"
     ]
    }
   ],
   "source": [
    "def almost_there(n):\n",
    "    if n>=90 and n<=110  or  n>=190 and n<=210:\n",
    "        z = True\n",
    "    else:\n",
    "        z = False\n",
    "    return z\n",
    "\n",
    "print(almost_there(90))\n",
    "print(almost_there(104))\n",
    "print(almost_there(150))\n",
    "print(almost_there(209))"
   ]
  },
  {
   "cell_type": "markdown",
   "metadata": {},
   "source": [
    "#### BLACKJACK: Given three integers between 1 and 11, if their sum is less than or equal to 21, return their sum. If their sum exceeds 21 *and* there's an eleven, reduce the total sum by 10. Finally, if the sum  exceeds 21, return 'BUST'\n",
    "    blackjack(5,6,7) --> 18\n",
    "    blackjack(9,9,9) --> 'BUST'\n",
    "    blackjack(9,9,11) --> 19"
   ]
  },
  {
   "cell_type": "code",
   "execution_count": 56,
   "metadata": {},
   "outputs": [
    {
     "name": "stdout",
     "output_type": "stream",
     "text": [
      "18\n",
      "BUST\n",
      "19\n"
     ]
    }
   ],
   "source": [
    "def blackjack(x,y,z):\n",
    "    sum = x + y + z\n",
    "    if sum <= 21:\n",
    "        pass\n",
    "    elif sum > 21:\n",
    "        if x==11 or y==11 or z==11:\n",
    "            sum = sum - 10\n",
    "        else:\n",
    "            sum = 'BUST'\n",
    "    return sum\n",
    "\n",
    "print(blackjack(5,6,7))\n",
    "print(blackjack(9,9,9))\n",
    "print(blackjack(9,9,11))"
   ]
  },
  {
   "cell_type": "code",
   "execution_count": null,
   "metadata": {},
   "outputs": [],
   "source": []
  }
 ],
 "metadata": {
  "kernelspec": {
   "display_name": "Python 3 (ipykernel)",
   "language": "python",
   "name": "python3"
  },
  "language_info": {
   "codemirror_mode": {
    "name": "ipython",
    "version": 3
   },
   "file_extension": ".py",
   "mimetype": "text/x-python",
   "name": "python",
   "nbconvert_exporter": "python",
   "pygments_lexer": "ipython3",
   "version": "3.9.12"
  }
 },
 "nbformat": 4,
 "nbformat_minor": 2
}
